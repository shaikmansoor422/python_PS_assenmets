{
 "cells": [
  {
   "cell_type": "code",
   "execution_count": 4,
   "id": "c8de6029-092a-47d6-9774-9b91b861a64d",
   "metadata": {},
   "outputs": [
    {
     "name": "stdout",
     "output_type": "stream",
     "text": [
      "-1\n",
      "-2\n",
      "-3\n",
      "-4\n",
      "-5\n",
      "-6\n",
      "-7\n",
      "-8\n",
      "-9\n",
      "-10\n"
     ]
    }
   ],
   "source": [
    "#  print loop -1 to -10\n",
    "for i in range(-1,-11,-1):\n",
    "   print(i)"
   ]
  },
  {
   "cell_type": "code",
   "execution_count": 12,
   "id": "698e8e7b-b60d-4ad5-a508-a8cb1013b235",
   "metadata": {},
   "outputs": [
    {
     "name": "stdout",
     "output_type": "stream",
     "text": [
      "19\n",
      "20\n"
     ]
    }
   ],
   "source": [
    "# sum of digits in a number\n",
    "\n",
    "num = 946\n",
    "sum = 0\n",
    "for i in str(num):\n",
    "    sum += int(i)\n",
    "print(sum)\n",
    "\n",
    "# another mtheod\n",
    "num1 = 8435\n",
    "total = 0\n",
    "while num1 >0:\n",
    "    res= num1%10\n",
    "    total += res\n",
    "    num1 = num1//10\n"
   ]
  },
  {
   "cell_type": "code",
   "execution_count": 20,
   "id": "1bf207ef-e894-49a2-a166-c5a57510aa2d",
   "metadata": {},
   "outputs": [
    {
     "name": "stdout",
     "output_type": "stream",
     "text": [
      "12\n"
     ]
    }
   ],
   "source": [
    "# even sum of digits\n",
    "num = 9789457\n",
    "even_sum = 0\n",
    "for i in str(num):\n",
    "    if int(i) % 2 == 0:\n",
    "        even_sum += int(i)\n",
    "print(even_sum)\n",
    "\n",
    "# methid2\n",
    "sum = 0\n",
    "res = 0\n",
    "while num > 0:\n",
    "    res = num % 10\n",
    "    if res % 2 == 0:\n",
    "        sum += res\n",
    "    num = num // 10\n",
    "print(sum)"
   ]
  },
  {
   "cell_type": "code",
   "execution_count": 30,
   "id": "84b3ee8a-4891-47fa-aa14-d7d8f72474fa",
   "metadata": {},
   "outputs": [
    {
     "name": "stdin",
     "output_type": "stream",
     "text": [
      "enter the number: 11\n"
     ]
    },
    {
     "name": "stdout",
     "output_type": "stream",
     "text": [
      "prime numberz\n"
     ]
    }
   ],
   "source": [
    "# prime number or not a prime number:\n",
    "num = int(input(\"enter the number:\"))\n",
    "if num < 2:\n",
    "    print(\"not a prime numberz\")\n",
    "else:\n",
    "    for i in range(2,num):\n",
    "         if num % i == 0:\n",
    "             print(\"not a prime number\")\n",
    "             break\n",
    "    else:\n",
    "             print(\"prime numberz\")\n",
    "                \n",
    "          "
   ]
  },
  {
   "cell_type": "code",
   "execution_count": 42,
   "id": "94b16f0f-cb9d-4841-89c2-8b62ea65b98a",
   "metadata": {},
   "outputs": [
    {
     "name": "stdin",
     "output_type": "stream",
     "text": [
      "enter the lower bound 1\n",
      "enter the upper bound 5\n"
     ]
    },
    {
     "name": "stdout",
     "output_type": "stream",
     "text": [
      "2 prime number\n",
      "3 prime number\n",
      "4 not a prime number\n",
      "5 prime number\n"
     ]
    }
   ],
   "source": [
    "# check prime numbers in a range:\n",
    "low_bound =int(input(\"enter the lower bound\"))\n",
    "high_bound = int(input(\"enter the upper bound\"))\n",
    "if low_bound < 0 or high_bound < low_bound:\n",
    "    print(\"please give a valid inputs\")\n",
    "else:\n",
    "    for num in range (low_bound , high_bound+1):\n",
    "        if num < 2 :\n",
    "            continue\n",
    "        for i in range (2,num):\n",
    "            if num % i == 0:\n",
    "                print(num,\"not a prime number\")\n",
    "                break\n",
    "        else:\n",
    "            print(num,\"prime number\")\n",
    "\n",
    "\n",
    "                \n",
    "        "
   ]
  },
  {
   "cell_type": "code",
   "execution_count": 47,
   "id": "59aca8d3-d618-4f0c-a957-81aa6619124b",
   "metadata": {},
   "outputs": [
    {
     "name": "stdin",
     "output_type": "stream",
     "text": [
      "enter the number 120498759201\n"
     ]
    },
    {
     "name": "stdout",
     "output_type": "stream",
     "text": [
      "prime number  2\n",
      "not a prime 4\n",
      "not a prime 9\n",
      "not a prime 8\n",
      "prime number  7\n",
      "prime number  5\n",
      "not a prime 9\n",
      "prime number  2\n",
      "sum: 32\n"
     ]
    }
   ],
   "source": [
    "# write a program to print sum of non-primes  digits in a given number  - 3437 => 3,3,7 =>13\n",
    "num = int(input(\"enter the number\"))\n",
    "str_num = str(num)\n",
    "sum = 0\n",
    "for i in str_num:\n",
    "    if int(i) <2:\n",
    "        sum += int(i)\n",
    "        continue\n",
    "    for j in range(2,int(i)):\n",
    "        if int(i) % j == 0:\n",
    "            print(\"not a prime\",int(i))\n",
    "            sum += int(i)\n",
    "            break\n",
    "    else:\n",
    "        print(\"prime number \",int(i))\n",
    "print(\"sum:\",sum)\n",
    "        "
   ]
  },
  {
   "cell_type": "code",
   "execution_count": null,
   "id": "3d970c95-fe07-4fdc-8a13-910649834ced",
   "metadata": {},
   "outputs": [],
   "source": [
    "# write a program to print max prime digit in a certain number  912780 =>2,7 => max - 7 \n",
    "num = int(input(\"enter the number\"))\n",
    "str_num = str(num)\n",
    "sum = 0\n",
    "arr = []\n",
    "for i in str_num:\n",
    "    if int(i) <2:\n",
    "        sum += int(i)\n",
    "        continue\n",
    "    for j in range(2,int(i)):\n",
    "        if int(i) % j == 0:\n",
    "            print(\"not a prime\",int(i))\n",
    "            break\n",
    "    else:\n",
    "        arr.append(int(i))\n",
    "        print(\"prime number \",int(i))\n",
    "        \n",
    "print(\"max prime number in the give  number  :\",max(arr))\n"
   ]
  },
  {
   "cell_type": "code",
   "execution_count": null,
   "id": "80b2f47e-fb00-4614-ab5b-0bfd1608709f",
   "metadata": {},
   "outputs": [],
   "source": [
    "# compare first digit and last digit in a number  (print equal - if there are  equal )\n",
    "number = int(input(\"enter the number:\"))\n",
    "if len(str(number))<2:\n",
    "    print(\"pls give two digits\")\n",
    "else:\n",
    "    last_digit = 0\n",
    "    last_digit = number % 10\n",
    "    str_num = str(number)\n",
    "    first_digit = str_num[0]\n",
    "    if int(first_digit) == last_digit:\n",
    "        print(\"both are equal\")\n",
    "    elif int(first_digit) < last_digit:\n",
    "        print(\"first didgti is smaller\")\n",
    "    else:\n",
    "        print(\"last_digit is smaller\")\n",
    "\n"
   ]
  },
  {
   "cell_type": "code",
   "execution_count": null,
   "id": "00d9f4b9-75c6-44ed-b98b-a8541c651281",
   "metadata": {},
   "outputs": [],
   "source": [
    "number = int(input(\"Enter the Fibonacci position (N): \"))\n",
    "\n",
    "a, b = 0, 1  \n",
    "\n",
    "if number == 0:\n",
    "    print(0)\n",
    "elif number == 1:\n",
    "    \n",
    "    print(1)\n",
    "else:\n",
    "    for i in range(number): \n",
    "        c = a + b\n",
    "        a = b\n",
    "        b = c\n",
    "    print(f\"The {number}th Fibonacci number is: {a}\") "
   ]
  },
  {
   "cell_type": "code",
   "execution_count": null,
   "id": "66cf88a6-6b35-4f59-bbb9-1c1ef3964177",
   "metadata": {},
   "outputs": [],
   "source": [
    "# print non-fibnocci numbers  in  given range  -(1 to 100) \n",
    "a, b = 0, 1\n",
    "fib_set = set()\n",
    "while b <= 100:\n",
    "    fib_set.add(b)\n",
    "    a, b = b, a + b\n",
    "\n",
    "for num in range(1, 101):\n",
    "    if num not in fib_set:\n",
    "        print(num, end=\" \")\n"
   ]
  },
  {
   "cell_type": "code",
   "execution_count": null,
   "id": "4feb4dc7-7470-435a-82ce-9d6e755ed0ff",
   "metadata": {},
   "outputs": [],
   "source": [
    "num = int(input(\"Enter a negative number: \"))\n",
    "\n",
    "if num >= 0:\n",
    "    print(\"Please enter a negative number.\")\n",
    "else:\n",
    "    rev_num = -int(str(abs(num))[::-1])\n",
    "    print(\"Reversed number:\", rev_num)"
   ]
  },
  {
   "cell_type": "code",
   "execution_count": null,
   "id": "69799df9-d7ec-4fbb-8618-8b8bd3d9638a",
   "metadata": {},
   "outputs": [],
   "source": []
  }
 ],
 "metadata": {
  "kernelspec": {
   "display_name": "Python 3 (ipykernel)",
   "language": "python",
   "name": "python3"
  },
  "language_info": {
   "codemirror_mode": {
    "name": "ipython",
    "version": 3
   },
   "file_extension": ".py",
   "mimetype": "text/x-python",
   "name": "python",
   "nbconvert_exporter": "python",
   "pygments_lexer": "ipython3",
   "version": "3.11.7"
  }
 },
 "nbformat": 4,
 "nbformat_minor": 5
}
