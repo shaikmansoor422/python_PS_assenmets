{
 "cells": [
  {
   "cell_type": "code",
   "execution_count": 1,
   "id": "e0a81ec3-466e-4b93-9601-d6e139bb3ede",
   "metadata": {},
   "outputs": [
    {
     "name": "stdin",
     "output_type": "stream",
     "text": [
      "Enter the year and find the nearest next leap yeat 2000\n"
     ]
    },
    {
     "name": "stdout",
     "output_type": "stream",
     "text": [
      "the next nearest Leap year is : 2004\n"
     ]
    }
   ],
   "source": [
    "# nearest leap year in increasing order:\n",
    "year = int(input(\"Enter the year and find the nearest next leap yeat\"))\n",
    "if year >0:\n",
    "    while True:\n",
    "        year += 1 \n",
    "        if (year % 4 == 0 and year % 100 != 0) or (year % 400 == 0):\n",
    "            print(\"the next nearest Leap year is :\",year)\n",
    "            break\n",
    "\n",
    "        "
   ]
  },
  {
   "cell_type": "code",
   "execution_count": 10,
   "id": "ca04d032-dd8d-4af3-8916-10294f893220",
   "metadata": {},
   "outputs": [
    {
     "name": "stdin",
     "output_type": "stream",
     "text": [
      "Enter the number to check it is a perfect number 6\n"
     ]
    },
    {
     "name": "stdout",
     "output_type": "stream",
     "text": [
      "perfect number\n"
     ]
    }
   ],
   "source": [
    "perfect_num = int(input(\"Enter the number to check it is a perfect number\"))\n",
    "if perfect_num > 0:\n",
    "    sum = 0\n",
    "    for i in range (1,perfect_num):\n",
    "        if perfect_num % i == 0:\n",
    "            sum += i\n",
    "    if sum == perfect_num:\n",
    "        print(\"perfect number\")\n",
    "    else:\n",
    "        print(\"not a perfect number\")\n",
    "else:\n",
    "     print(\"give a valid input\")\n"
   ]
  },
  {
   "cell_type": "code",
   "execution_count": 15,
   "id": "c1ce5264-5903-439d-a413-cca215a26a66",
   "metadata": {},
   "outputs": [
    {
     "name": "stdin",
     "output_type": "stream",
     "text": [
      "Enter the number : 153\n"
     ]
    },
    {
     "name": "stdout",
     "output_type": "stream",
     "text": [
      "armstrong number \n"
     ]
    }
   ],
   "source": [
    "# checking for armstrong number:\n",
    "# method-1\n",
    "num = (input(\"Enter the number :\"))\n",
    "number = int(num)\n",
    "if number >0:\n",
    "    sum = 0\n",
    "    for i in num:\n",
    "        sum += int(i)**len(num)\n",
    "    print(\"armstrong number \") if sum == number else print(\"not a armstrong num\")\n",
    "\n",
    "# method 2:\n",
    "number = int(input(\"Enter the number\"))\n",
    "temp = number\n",
    "last_digit = 0\n",
    "result = 0\n",
    "while number > 0:\n",
    "    last_digit = number % 10\n",
    "    result += last_digit ** len(str(temp))\n",
    "    number = number // 10\n",
    "print(\"armstrong\") if sum == temp else print(\"not an armstrong\")\n",
    "    \n",
    "    "
   ]
  },
  {
   "cell_type": "code",
   "execution_count": null,
   "id": "632e2ed2-9f7e-46c6-9153-8ce94a95c7d6",
   "metadata": {},
   "outputs": [],
   "source": []
  }
 ],
 "metadata": {
  "kernelspec": {
   "display_name": "Python 3 (ipykernel)",
   "language": "python",
   "name": "python3"
  },
  "language_info": {
   "codemirror_mode": {
    "name": "ipython",
    "version": 3
   },
   "file_extension": ".py",
   "mimetype": "text/x-python",
   "name": "python",
   "nbconvert_exporter": "python",
   "pygments_lexer": "ipython3",
   "version": "3.11.7"
  }
 },
 "nbformat": 4,
 "nbformat_minor": 5
}
