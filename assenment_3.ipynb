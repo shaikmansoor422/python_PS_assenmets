{
 "cells": [
  {
   "cell_type": "code",
   "execution_count": 1,
   "id": "6ecf1c9b-eb09-4bac-a035-207e5c6815c3",
   "metadata": {},
   "outputs": [
    {
     "name": "stdin",
     "output_type": "stream",
     "text": [
      "Enter the number : 15\n"
     ]
    },
    {
     "name": "stdout",
     "output_type": "stream",
     "text": [
      "FIZZBUZZ\n"
     ]
    }
   ],
   "source": [
    "#  question 1 :# A wizard gives you a magic number and asks you to guess if \n",
    "# it’s divisible by 3 and 5. If it is, print \"FizzBuzz\". \n",
    "# If it’s only divisible by 3, print \"Fizz\". If it’s only \n",
    "# # divisible by 5, print \"Buzz\". Otherwise, print the number itself\n",
    "\n",
    "\n",
    "num = int(input(\"Enter the number :\"))\n",
    "if num <= 0 :\n",
    "    print(\"please entre a positive number\")\n",
    "else:\n",
    "    if num % 3 == 0 and num % 5 == 0:\n",
    "        print(\"FIZZBUZZ\")\n",
    "    elif num % 3 == 0 :\n",
    "        print(\"FIZZ\")\n",
    "    elif num % 5 == 0:\n",
    "        print(\"BUZZ\")\n",
    "    else:\n",
    "        print(\"not a FIZZ, not a BUZZ and not a FIZZBUZZ\")"
   ]
  },
  {
   "cell_type": "code",
   "execution_count": 2,
   "id": "7f20056e-920f-4e34-9387-dd45325794ed",
   "metadata": {},
   "outputs": [
    {
     "name": "stdin",
     "output_type": "stream",
     "text": [
      "First warrior health :  20\n",
      "First warrior power :  20\n",
      "Second warrior health : 30\n",
      "Second warrior power :  20\n"
     ]
    },
    {
     "name": "stdout",
     "output_type": "stream",
     "text": [
      "Warrior two won\n"
     ]
    }
   ],
   "source": [
    "\n",
    "# question 2\n",
    "# Battle of the Warriors\n",
    "# Two warriors are fighting in a game. Each has health and attack power. The warrior with the higher attack power wins unless both have the same attack power, in which case the one with higher health wins. If both health and attack power are the same, print \"Draw\".\n",
    "\n",
    "war1_health= int(input(\"First warrior health : \"))\n",
    "war1_power = int(input(\"First warrior power : \"))\n",
    "war2_health = int(input(\"Second warrior health :\"))\n",
    "war2_power = int(input(\"Second warrior power : \"))\n",
    "if war1_health <= 0 or war1_power <= 0 or war2_health <= 0 or war2_power <= 0:\n",
    "    print(\"Please enter the positive health and power\")\n",
    "else: \n",
    "    if war1_health > war2_health and war1_power == war2_power :\n",
    "       print(\"Warrior one won\")\n",
    "    elif war2_health > war1_health and war1_power == war2_power :\n",
    "       print(\"Warrior two won\")\n",
    "    elif war1_health == war2_health and war1_power > war2_power :\n",
    "       print(\"Warrior one won\")\n",
    "    elif war1_health == war2_health and war1_power < war2_power :\n",
    "       print(\"Warrior two won\")\n",
    "    elif war1_health == war2_health and war1_power == war2_power :\n",
    "       print(\"DRAW\")\n"
   ]
  },
  {
   "cell_type": "code",
   "execution_count": 3,
   "id": "2d06003b-0017-4434-a841-ace152f7caa2",
   "metadata": {},
   "outputs": [
    {
     "name": "stdin",
     "output_type": "stream",
     "text": [
      "Enter your balance : 20000\n",
      "Please enter the amount (must be multiple of hundred) :  500\n"
     ]
    },
    {
     "name": "stdout",
     "output_type": "stream",
     "text": [
      "your transaction is succeful\n"
     ]
    }
   ],
   "source": [
    "# question 3:\n",
    "balance = int(input(\"Enter your balance :\"))\n",
    "amount = int(input(\"Please enter the amount (must be multiple of hundred) : \"))\n",
    "if amount > 0:\n",
    "   if amount % 100 == 0:\n",
    "      if amount <= balance :\n",
    "         print(\"your transaction is succeful\")\n",
    "      else:\n",
    "         print(\"Sorry, your balance is low\")\n",
    "   else:\n",
    "      print(\"Please enter amount in multiples of hundred\")\n",
    "else:\n",
    "   print(\"please enter positive amount\")  "
   ]
  },
  {
   "cell_type": "code",
   "execution_count": null,
   "id": "50d7df24-d249-4cec-b489-97ade248f799",
   "metadata": {},
   "outputs": [],
   "source": []
  }
 ],
 "metadata": {
  "kernelspec": {
   "display_name": "Python 3 (ipykernel)",
   "language": "python",
   "name": "python3"
  },
  "language_info": {
   "codemirror_mode": {
    "name": "ipython",
    "version": 3
   },
   "file_extension": ".py",
   "mimetype": "text/x-python",
   "name": "python",
   "nbconvert_exporter": "python",
   "pygments_lexer": "ipython3",
   "version": "3.11.7"
  }
 },
 "nbformat": 4,
 "nbformat_minor": 5
}
