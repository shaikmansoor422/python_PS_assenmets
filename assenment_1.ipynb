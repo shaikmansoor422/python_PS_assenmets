{
 "cells": [
  {
   "cell_type": "code",
   "execution_count": 1,
   "id": "bfacbbc6-50e9-4d33-b15f-484b5cc3bb46",
   "metadata": {},
   "outputs": [
    {
     "name": "stdout",
     "output_type": "stream",
     "text": [
      "25\n",
      "1\n",
      "12\n"
     ]
    }
   ],
   "source": [
    "# 1. code to find min value, max value and sum of elements in from a list\n",
    "list = [1,4,7,-35,25,4,6]\n",
    "max_value = list[0]\n",
    "min_value = list[0]\n",
    "sum = 0\n",
    "for i in range(0, len(list)):\n",
    "    if list[i]>max_value:\n",
    "        max_value = list[i]\n",
    "    if  list[i] < min_value:\n",
    "        max_value = list[i]\n",
    "    sum += list[i]\n",
    "\n",
    "print(max_value)\n",
    "print(min_value)\n",
    "print(sum)"
   ]
  },
  {
   "cell_type": "code",
   "execution_count": 4,
   "id": "e81e84ba-d92b-4b53-81d5-b25f141744c8",
   "metadata": {},
   "outputs": [
    {
     "name": "stdin",
     "output_type": "stream",
     "text": [
      "Enter the age of ramesh :  20\n",
      "Enter the age of suresh :  30\n"
     ]
    },
    {
     "name": "stdout",
     "output_type": "stream",
     "text": [
      "suresh is elder\n"
     ]
    }
   ],
   "source": [
    "# 3. take two ages of persons as input and print whos age is older\n",
    "\n",
    "ramesh = int(input(\"Enter the age of ramesh : \"))\n",
    "suresh = int(input(\"Enter the age of suresh : \"))\n",
    "if ramesh > suresh:\n",
    "    print(\"ramesh is elder\")\n",
    "elif ramesh == suresh :\n",
    "    print(\"ramesh and suresh age is same\")\n",
    "else:\n",
    "    print(\"suresh is elder\")\n"
   ]
  },
  {
   "cell_type": "code",
   "execution_count": 6,
   "id": "a9425ebd-1a3a-46e5-8ff9-a30ba320324c",
   "metadata": {},
   "outputs": [
    {
     "name": "stdin",
     "output_type": "stream",
     "text": [
      "Enter the operation you want to do (add, mul, div, sub, modul) :  ADD\n",
      "Enter the first value :  20\n",
      "Enter the second value :  30\n"
     ]
    },
    {
     "name": "stdout",
     "output_type": "stream",
     "text": [
      "50.0\n"
     ]
    }
   ],
   "source": [
    "\n",
    "# 5 . simple calculater:with 3 inputs\n",
    "\n",
    "operation = input(\"Enter the operation you want to do (add, mul, div, sub, modul) : \")\n",
    "value_1 = float(input(\"Enter the first value : \"))\n",
    "value_2 = float(input(\"Enter the second value : \"))\n",
    "\n",
    "opr = operation.lower()\n",
    "if opr == 'add' :\n",
    "    print(value_1+value_2)\n",
    "elif opr == 'mul':\n",
    "    print(value_1*value_2)\n",
    "elif opr == 'modul':\n",
    "    print(value_1%value_2)\n",
    "elif opr == 'sub':\n",
    "    print(value_1*value_2)\n",
    "else:\n",
    "    print(value_1*value_2) if value_2 > 0 else print(\"please give valid inputs\")"
   ]
  },
  {
   "cell_type": "code",
   "execution_count": 7,
   "id": "13a5875e-ee85-4afb-8f58-85bc70294e60",
   "metadata": {},
   "outputs": [
    {
     "name": "stdin",
     "output_type": "stream",
     "text": [
      "enter a number from (1-7) :  7\n"
     ]
    },
    {
     "name": "stdout",
     "output_type": "stream",
     "text": [
      "the day is : sunday\n"
     ]
    }
   ],
   "source": [
    "# Q7. week display by number\n",
    "\n",
    "days ={\n",
    "    1:\"monday\",\n",
    "    2:\"tuesday\",\n",
    "    3:\"wednesday\",\n",
    "    4:\"thursdday\",\n",
    "    5:\"friday\",\n",
    "    6:\"saturday\",\n",
    "    7:\"sunday\"\n",
    "\n",
    "}\n",
    "\n",
    "num = int(input(\"enter a number from (1-7) : \"))\n",
    "if num >=1 and num <=7:\n",
    "    print(\"the day is :\",days[num])\n",
    "else:\n",
    "    print(\"invalid input\")\n",
    "\n",
    "\n",
    "# Q8. same for months also"
   ]
  },
  {
   "cell_type": "code",
   "execution_count": null,
   "id": "9f3ec1d7-43c8-45e8-b968-a88b98b761f2",
   "metadata": {},
   "outputs": [],
   "source": []
  }
 ],
 "metadata": {
  "kernelspec": {
   "display_name": "Python 3 (ipykernel)",
   "language": "python",
   "name": "python3"
  },
  "language_info": {
   "codemirror_mode": {
    "name": "ipython",
    "version": 3
   },
   "file_extension": ".py",
   "mimetype": "text/x-python",
   "name": "python",
   "nbconvert_exporter": "python",
   "pygments_lexer": "ipython3",
   "version": "3.11.7"
  }
 },
 "nbformat": 4,
 "nbformat_minor": 5
}
