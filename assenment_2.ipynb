{
 "cells": [
  {
   "cell_type": "code",
   "execution_count": 2,
   "id": "6f972869-2097-4c19-a3cb-e7200fb9874c",
   "metadata": {},
   "outputs": [
    {
     "name": "stdin",
     "output_type": "stream",
     "text": [
      "Enter your year here : 2000\n"
     ]
    },
    {
     "name": "stdout",
     "output_type": "stream",
     "text": [
      "Leap year\n",
      "leap year\n"
     ]
    }
   ],
   "source": [
    "# Q6. leap year\n",
    "year = int(input(\"Enter your year here :\"))\n",
    "if (year % 100 == 0 and year % 4 == 0) or year % 400 == 0:\n",
    "    print(\"Leap year\")\n",
    "else:\n",
    "    print(\"not a leap year\")\n",
    "\n",
    "# type 2\n",
    "print(\"leap year\") if (year % 100 == 0 and year % 4 == 0) or year % 400 == 0 else print(\"not a leap year\")\n"
   ]
  },
  {
   "cell_type": "code",
   "execution_count": 6,
   "id": "89dfd165-86ee-4dfc-bbb4-d4ccd833c653",
   "metadata": {},
   "outputs": [
    {
     "name": "stdin",
     "output_type": "stream",
     "text": [
      "Enter the length of side one : 30\n",
      "Enter the length of side two : 30\n",
      "Enter the length of side three : 40\n"
     ]
    },
    {
     "name": "stdout",
     "output_type": "stream",
     "text": [
      "its a triangle\n",
      "Its a triangle\n"
     ]
    }
   ],
   "source": [
    "# Q7. triangle  basic formula two sides of triangle must be greater than third side in all sides to check\n",
    " \n",
    "side_1 = float(input(\"Enter the length of side one :\"))\n",
    "side_2 = float(input(\"Enter the length of side two :\"))\n",
    "side_3 = float(input(\"Enter the length of side three :\"))\n",
    "\n",
    "if (side_1 + side_2 > side_3 and side_2 + side_3 > side_1 and side_3 + side_1 > side_2):\n",
    "    print(\"its a triangle\")\n",
    "else:\n",
    "    print(\"not a triangle\")\n",
    "\n",
    "\n",
    "# type 2:\n",
    "print(\"Its a triangle\") if (side_1 + side_2 > side_3 and side_2 + side_3 > side_1 and side_3 + side_1 > side_2) else print(\"not a triangle\")\n",
    "\n",
    "# advanced method of input\n",
    "# side1,side2,side3 = map(float,input(\"Enter sides of trainglr\").split(\",\"))"
   ]
  },
  {
   "cell_type": "code",
   "execution_count": null,
   "id": "fde4dc22-2503-40dd-962f-e21b2ecd0694",
   "metadata": {},
   "outputs": [],
   "source": [
    "#Q8: vowel or consonant or neither\n",
    "\n",
    "# letter = input(\"Enter the input : \").lower()\n",
    "# if len(letter) > 1 or len(letter)< 1:\n",
    "#     print(\"please give one character\")\n",
    "# elif letter in \"aeiou\":  --- you can write letter in [\"a\",\"i\",\"e\",\"o\",\"s\"]\n",
    "#     print(\"its a vowel\")\n",
    "# else:\n",
    "#     print(\"Its a consonant\")\n",
    "\n",
    "\n",
    "# if letter in [\"a\",\"e\",\"i\",\"o\",\"s\"]:\n",
    "#     print(\"its a vowel\")\n",
    "# else:\n",
    "#     print(\"its a consonant\")\n",
    "\n",
    "\n",
    "# advanced\n",
    "# letter = input(\"Enter the input : \").lower()\n",
    "# if len(letter) != 1:\n",
    "#     print(\"please give one character\")\n",
    "# else:\n",
    "#     if letter in \"aeiou\":\n",
    "#         print(\"its a vowel\")\n",
    "#     elif letter.isalpha():\n",
    "#         print(\"is consonant\")\n",
    "#     else:\n",
    "#         print(\"its a special character\")"
   ]
  }
 ],
 "metadata": {
  "kernelspec": {
   "display_name": "Python 3 (ipykernel)",
   "language": "python",
   "name": "python3"
  },
  "language_info": {
   "codemirror_mode": {
    "name": "ipython",
    "version": 3
   },
   "file_extension": ".py",
   "mimetype": "text/x-python",
   "name": "python",
   "nbconvert_exporter": "python",
   "pygments_lexer": "ipython3",
   "version": "3.11.7"
  }
 },
 "nbformat": 4,
 "nbformat_minor": 5
}
